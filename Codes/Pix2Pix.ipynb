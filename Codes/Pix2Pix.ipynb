{
  "nbformat": 4,
  "nbformat_minor": 0,
  "metadata": {
    "colab": {
      "name": "CIP-100%-Implementation.ipynb",
      "provenance": [],
      "collapsed_sections": [
        "gugXHBMEmIyc",
        "03GVHb_8llN5",
        "k8ODVjthldzP",
        "TN4MT6pcEJIk",
        "C9IfmSbaORii",
        "Hod_iaAwmZDa"
      ]
    },
    "kernelspec": {
      "name": "python3",
      "display_name": "Python 3"
    }
  },
  "cells": [
    {
      "cell_type": "code",
      "metadata": {
        "id": "vKCFD0UNT-nm",
        "colab": {
          "base_uri": "https://localhost:8080/"
        },
        "outputId": "53199892-2236-4dac-ae93-95cebf25c446"
      },
      "source": [
        "from google.colab import drive\n",
        "drive.mount('/content/drive')"
      ],
      "execution_count": 1,
      "outputs": [
        {
          "output_type": "stream",
          "text": [
            "Mounted at /content/drive\n"
          ],
          "name": "stdout"
        }
      ]
    },
    {
      "cell_type": "markdown",
      "metadata": {
        "id": "AuCbuaARmAYn"
      },
      "source": [
        "### Imports"
      ]
    },
    {
      "cell_type": "code",
      "metadata": {
        "id": "m0qWW6CiUAfv"
      },
      "source": [
        "from numpy import load\n",
        "from numpy import zeros\n",
        "from numpy import ones\n",
        "from numpy.random import randint\n",
        "from keras.optimizers import Adam\n",
        "from keras.initializers import RandomNormal\n",
        "from keras.models import Model\n",
        "from keras.models import Input\n",
        "from keras.layers import Conv2D\n",
        "from keras.layers import Conv2DTranspose\n",
        "from keras.layers import LeakyReLU\n",
        "from keras.layers import Activation\n",
        "from keras.layers import Concatenate\n",
        "from keras.layers import Dropout\n",
        "from keras.layers import BatchNormalization\n",
        "from keras.layers import LeakyReLU\n",
        "from matplotlib import pyplot\n",
        "from numpy import expand_dims\n",
        "# load, split and scale the maps dataset ready for training\n",
        "from os import listdir\n",
        "from numpy import asarray\n",
        "from numpy import vstack\n",
        "from keras.preprocessing.image import img_to_array\n",
        "from keras.preprocessing.image import load_img\n",
        "from numpy import savez_compressed\n",
        "import PIL\n",
        "import numpy as np\n",
        "import matplotlib.pyplot as plt\n",
        "# Edifice detection module\n",
        "import cv2\n",
        "from google.colab.patches import cv2_imshow\n",
        "# calculate inception score for cifar-10 in Keras\n",
        "from math import floor\n",
        "from numpy import ones\n",
        "from numpy import expand_dims\n",
        "from numpy import log\n",
        "from numpy import mean\n",
        "from numpy import std\n",
        "from numpy import exp\n",
        "from numpy.random import shuffle\n",
        "from keras.applications.inception_v3 import InceptionV3\n",
        "from keras.applications.inception_v3 import preprocess_input\n",
        "from keras.datasets import cifar10\n",
        "from skimage.transform import resize\n",
        "from numpy import asarray"
      ],
      "execution_count": null,
      "outputs": []
    },
    {
      "cell_type": "markdown",
      "metadata": {
        "id": "gugXHBMEmIyc"
      },
      "source": [
        "### Preprocessing"
      ]
    },
    {
      "cell_type": "code",
      "metadata": {
        "id": "AHexfMgVSZH4"
      },
      "source": [
        "# load all images in a directory into memory\n",
        "def load_images(path, size=(256,512)):\n",
        "\tsrc_list, tar_list = list(), list()\n",
        "\t# enumerate filenames in directory, assume all are images\n",
        "\tfor filename in listdir(path):\n",
        "\t\t# load and resize the image\n",
        "\t\tpixels = load_img(path + filename, target_size=size)\n",
        "\t\t# convert to numpy array\n",
        "\t\tpixels = img_to_array(pixels)\n",
        "\t\t# split into satellite and map\n",
        "\t\tsat_img, map_img = pixels[:, :256], pixels[:, 256:]\n",
        "\t\tsrc_list.append(sat_img)\n",
        "\t\ttar_list.append(map_img)\n",
        "\treturn [asarray(src_list), asarray(tar_list)]"
      ],
      "execution_count": null,
      "outputs": []
    },
    {
      "cell_type": "code",
      "metadata": {
        "id": "LtdGlxJcVYbS"
      },
      "source": [
        "def compress_images(path, filename): \n",
        "    [src_images, tar_images] = load_images(path)\n",
        "    print('Loaded: ', src_images.shape, tar_images.shape)\n",
        "    savez_compressed(filename, src_images, tar_images)\n",
        "    print('Saved dataset: ', filename)"
      ],
      "execution_count": null,
      "outputs": []
    },
    {
      "cell_type": "code",
      "metadata": {
        "id": "LZp_GXoUiv2l"
      },
      "source": [
        "compress_images('/content/drive/MyDrive/CIP_Project/maps/train/', 'maps_256.npz')"
      ],
      "execution_count": null,
      "outputs": []
    },
    {
      "cell_type": "code",
      "metadata": {
        "id": "IzLv67O-U00n"
      },
      "source": [
        "# load and prepare training images\n",
        "def load_real_samples(filename):\n",
        "\t# load compressed arrays\n",
        "\tdata = load(filename)\n",
        "\t# unpack arrays\n",
        "\tX1, X2 = data['arr_0'], data['arr_1']\n",
        "\t# scale from [0,255] to [-1,1]\n",
        "\tX1 = (X1 - 127.5) / 127.5\n",
        "\tX2 = (X2 - 127.5) / 127.5\n",
        "\treturn [X1, X2]"
      ],
      "execution_count": null,
      "outputs": []
    },
    {
      "cell_type": "code",
      "metadata": {
        "id": "X5JCzqfZmQHE",
        "colab": {
          "base_uri": "https://localhost:8080/"
        },
        "outputId": "2c9ac30c-0c27-42ec-f4e5-f0828a8cf097"
      },
      "source": [
        "# load image data\n",
        "dataset = load_real_samples('/content/drive/MyDrive/CIP_Project/maps_256.npz')\n",
        "print('Loaded', dataset[0].shape, dataset[1].shape)\n",
        "image_shape = dataset[0].shape[1:]\n",
        "print(image_shape)"
      ],
      "execution_count": null,
      "outputs": [
        {
          "output_type": "stream",
          "text": [
            "Loaded (1096, 256, 256, 3) (1096, 256, 256, 3)\n",
            "(256, 256, 3)\n"
          ],
          "name": "stdout"
        }
      ]
    },
    {
      "cell_type": "markdown",
      "metadata": {
        "id": "03GVHb_8llN5"
      },
      "source": [
        "### Generator Module"
      ]
    },
    {
      "cell_type": "code",
      "metadata": {
        "id": "0JRnZ4diOtTz"
      },
      "source": [
        "# define an encoder block\n",
        "def define_encoder_block(layer_in, n_filters, batchnorm=True):\n",
        "    # weight initialization\n",
        "    init = RandomNormal(stddev=0.02)\n",
        "    # add downsampling layer\n",
        "    g = Conv2D(n_filters, (4,4), strides=(2,2), padding='same', kernel_initializer=init)(layer_in)\n",
        "    # conditionally add batch normalization\n",
        "    if batchnorm:\n",
        "        g = BatchNormalization()(g, training=True)\n",
        "    # leaky relu activation\n",
        "    g = LeakyReLU(alpha=0.2)(g)\n",
        "    #print(\"Input \",layer_in.shape,\" Output \",g.shape)\n",
        "    return g"
      ],
      "execution_count": null,
      "outputs": []
    },
    {
      "cell_type": "code",
      "metadata": {
        "id": "CzFr01KTOyHu"
      },
      "source": [
        "# define a decoder block\n",
        "def decoder_block(layer_in, skip_in, n_filters, dropout=True):\n",
        "    # weight initialization\n",
        "    init = RandomNormal(stddev=0.02)\n",
        "    # add upsampling layer\n",
        "    #print(\"Before Conv2dTranspose Shape = \",layer_in.shape)\n",
        "    g = Conv2DTranspose(n_filters, (4,4), strides=(2,2), padding='same', kernel_initializer=init)(layer_in)\n",
        "    #print(\"After Conv2dTranspose Shape = \",g.shape)\n",
        "    # add batch normalization\n",
        "    g = BatchNormalization()(g, training=True)\n",
        "    # conditionally add dropout\n",
        "    #print(\"Before Dropout \",g.shape)\n",
        "    if dropout:\n",
        "        g = Dropout(0.5)(g, training=True)\n",
        "        #print(\"After Dropout \",g.shape)\n",
        "    # merge with skip connection\n",
        "    #print(\"G.shape =  \",g.shape,\"Skip-in.shape = \",skip_in.shape)\n",
        "    g = Concatenate()([g, skip_in])\n",
        "    #print(\"Concatenated Shape = \",g.shape)\n",
        "    # relu activation\n",
        "    g = Activation('relu')(g)\n",
        "    #print(\"Input \",layer_in.shape,\" Output \",g.shape)\n",
        "    return g"
      ],
      "execution_count": null,
      "outputs": []
    },
    {
      "cell_type": "code",
      "metadata": {
        "id": "0SnqQYDSUP7T"
      },
      "source": [
        "# define the standalone generator model\n",
        "def define_generator(image_shape=(256,256,3)):\n",
        "    # weight initialization\n",
        "    init = RandomNormal(stddev=0.02)\n",
        "    # image input\n",
        "    in_image = Input(shape=image_shape)\n",
        "    # encoder model\n",
        "    e1 = define_encoder_block(in_image, 64, batchnorm=False)\n",
        "    e2 = define_encoder_block(e1, 128)\n",
        "    e3 = define_encoder_block(e2, 256)\n",
        "    e4 = define_encoder_block(e3, 512)\n",
        "    e5 = define_encoder_block(e4, 512)\n",
        "    e6 = define_encoder_block(e5, 512)\n",
        "    e7 = define_encoder_block(e6, 512)\n",
        "    # bottleneck, no batch norm and relu\n",
        "    b = Conv2D(512, (4,4), strides=(2,2), padding='same', kernel_initializer=init)(e7)\n",
        "    b = Activation('relu')(b)\n",
        "    # decoder model\n",
        "    d1 = decoder_block(b, e7, 512)\n",
        "    d2 = decoder_block(d1, e6, 512)\n",
        "    d3 = decoder_block(d2, e5, 512)\n",
        "    d4 = decoder_block(d3, e4, 512, dropout=False)\n",
        "    d5 = decoder_block(d4, e3, 256, dropout=False)\n",
        "    d6 = decoder_block(d5, e2, 128, dropout=False)\n",
        "    d7 = decoder_block(d6, e1, 64, dropout=False)\n",
        "    # output\n",
        "    #print(\"###Before Conv2dTranspose Shape = \",d7.shape)\n",
        "    g = Conv2DTranspose(3, (4,4), strides=(2,2), padding='same', kernel_initializer=init)(d7)\n",
        "    #print(\"###After Conv2dTranspose Shape = \",g.shape)\n",
        "    out_image = Activation('tanh')(g)\n",
        "    # define model\n",
        "    model = Model(in_image, out_image)\n",
        "    return model"
      ],
      "execution_count": null,
      "outputs": []
    },
    {
      "cell_type": "code",
      "metadata": {
        "id": "GTYojvivlYLc"
      },
      "source": [
        "g_model = define_generator(image_shape)"
      ],
      "execution_count": null,
      "outputs": []
    },
    {
      "cell_type": "code",
      "metadata": {
        "colab": {
          "base_uri": "https://localhost:8080/"
        },
        "id": "MLzGNWyobIrW",
        "outputId": "abfc005b-ea19-468d-d18c-36edcb1fde2c"
      },
      "source": [
        "print(g_model.input_shape)\n",
        "print(g_model.output_shape)"
      ],
      "execution_count": null,
      "outputs": [
        {
          "output_type": "stream",
          "text": [
            "(None, 256, 256, 3)\n",
            "(None, 256, 256, 3)\n"
          ],
          "name": "stdout"
        }
      ]
    },
    {
      "cell_type": "code",
      "metadata": {
        "colab": {
          "base_uri": "https://localhost:8080/"
        },
        "id": "mG3SIuB-edNv",
        "outputId": "b095d965-3724-4d79-b168-e876781d5c23"
      },
      "source": [
        "g_model.summary()"
      ],
      "execution_count": null,
      "outputs": [
        {
          "output_type": "stream",
          "text": [
            "Model: \"model_9\"\n",
            "__________________________________________________________________________________________________\n",
            "Layer (type)                    Output Shape         Param #     Connected to                     \n",
            "==================================================================================================\n",
            "input_11 (InputLayer)           [(None, 256, 256, 3) 0                                            \n",
            "__________________________________________________________________________________________________\n",
            "conv2d_80 (Conv2D)              (None, 128, 128, 64) 3136        input_11[0][0]                   \n",
            "__________________________________________________________________________________________________\n",
            "leaky_re_lu_70 (LeakyReLU)      (None, 128, 128, 64) 0           conv2d_80[0][0]                  \n",
            "__________________________________________________________________________________________________\n",
            "conv2d_81 (Conv2D)              (None, 64, 64, 128)  131200      leaky_re_lu_70[0][0]             \n",
            "__________________________________________________________________________________________________\n",
            "batch_normalization_130 (BatchN (None, 64, 64, 128)  512         conv2d_81[0][0]                  \n",
            "__________________________________________________________________________________________________\n",
            "leaky_re_lu_71 (LeakyReLU)      (None, 64, 64, 128)  0           batch_normalization_130[0][0]    \n",
            "__________________________________________________________________________________________________\n",
            "conv2d_82 (Conv2D)              (None, 32, 32, 256)  524544      leaky_re_lu_71[0][0]             \n",
            "__________________________________________________________________________________________________\n",
            "batch_normalization_131 (BatchN (None, 32, 32, 256)  1024        conv2d_82[0][0]                  \n",
            "__________________________________________________________________________________________________\n",
            "leaky_re_lu_72 (LeakyReLU)      (None, 32, 32, 256)  0           batch_normalization_131[0][0]    \n",
            "__________________________________________________________________________________________________\n",
            "conv2d_83 (Conv2D)              (None, 16, 16, 512)  2097664     leaky_re_lu_72[0][0]             \n",
            "__________________________________________________________________________________________________\n",
            "batch_normalization_132 (BatchN (None, 16, 16, 512)  2048        conv2d_83[0][0]                  \n",
            "__________________________________________________________________________________________________\n",
            "leaky_re_lu_73 (LeakyReLU)      (None, 16, 16, 512)  0           batch_normalization_132[0][0]    \n",
            "__________________________________________________________________________________________________\n",
            "conv2d_84 (Conv2D)              (None, 8, 8, 512)    4194816     leaky_re_lu_73[0][0]             \n",
            "__________________________________________________________________________________________________\n",
            "batch_normalization_133 (BatchN (None, 8, 8, 512)    2048        conv2d_84[0][0]                  \n",
            "__________________________________________________________________________________________________\n",
            "leaky_re_lu_74 (LeakyReLU)      (None, 8, 8, 512)    0           batch_normalization_133[0][0]    \n",
            "__________________________________________________________________________________________________\n",
            "conv2d_85 (Conv2D)              (None, 4, 4, 512)    4194816     leaky_re_lu_74[0][0]             \n",
            "__________________________________________________________________________________________________\n",
            "batch_normalization_134 (BatchN (None, 4, 4, 512)    2048        conv2d_85[0][0]                  \n",
            "__________________________________________________________________________________________________\n",
            "leaky_re_lu_75 (LeakyReLU)      (None, 4, 4, 512)    0           batch_normalization_134[0][0]    \n",
            "__________________________________________________________________________________________________\n",
            "conv2d_86 (Conv2D)              (None, 2, 2, 512)    4194816     leaky_re_lu_75[0][0]             \n",
            "__________________________________________________________________________________________________\n",
            "batch_normalization_135 (BatchN (None, 2, 2, 512)    2048        conv2d_86[0][0]                  \n",
            "__________________________________________________________________________________________________\n",
            "leaky_re_lu_76 (LeakyReLU)      (None, 2, 2, 512)    0           batch_normalization_135[0][0]    \n",
            "__________________________________________________________________________________________________\n",
            "conv2d_87 (Conv2D)              (None, 1, 1, 512)    4194816     leaky_re_lu_76[0][0]             \n",
            "__________________________________________________________________________________________________\n",
            "activation_89 (Activation)      (None, 1, 1, 512)    0           conv2d_87[0][0]                  \n",
            "__________________________________________________________________________________________________\n",
            "conv2d_transpose_79 (Conv2DTran (None, 2, 2, 512)    4194816     activation_89[0][0]              \n",
            "__________________________________________________________________________________________________\n",
            "batch_normalization_136 (BatchN (None, 2, 2, 512)    2048        conv2d_transpose_79[0][0]        \n",
            "__________________________________________________________________________________________________\n",
            "dropout_30 (Dropout)            (None, 2, 2, 512)    0           batch_normalization_136[0][0]    \n",
            "__________________________________________________________________________________________________\n",
            "concatenate_70 (Concatenate)    (None, 2, 2, 1024)   0           dropout_30[0][0]                 \n",
            "                                                                 leaky_re_lu_76[0][0]             \n",
            "__________________________________________________________________________________________________\n",
            "activation_90 (Activation)      (None, 2, 2, 1024)   0           concatenate_70[0][0]             \n",
            "__________________________________________________________________________________________________\n",
            "conv2d_transpose_80 (Conv2DTran (None, 4, 4, 512)    8389120     activation_90[0][0]              \n",
            "__________________________________________________________________________________________________\n",
            "batch_normalization_137 (BatchN (None, 4, 4, 512)    2048        conv2d_transpose_80[0][0]        \n",
            "__________________________________________________________________________________________________\n",
            "dropout_31 (Dropout)            (None, 4, 4, 512)    0           batch_normalization_137[0][0]    \n",
            "__________________________________________________________________________________________________\n",
            "concatenate_71 (Concatenate)    (None, 4, 4, 1024)   0           dropout_31[0][0]                 \n",
            "                                                                 leaky_re_lu_75[0][0]             \n",
            "__________________________________________________________________________________________________\n",
            "activation_91 (Activation)      (None, 4, 4, 1024)   0           concatenate_71[0][0]             \n",
            "__________________________________________________________________________________________________\n",
            "conv2d_transpose_81 (Conv2DTran (None, 8, 8, 512)    8389120     activation_91[0][0]              \n",
            "__________________________________________________________________________________________________\n",
            "batch_normalization_138 (BatchN (None, 8, 8, 512)    2048        conv2d_transpose_81[0][0]        \n",
            "__________________________________________________________________________________________________\n",
            "dropout_32 (Dropout)            (None, 8, 8, 512)    0           batch_normalization_138[0][0]    \n",
            "__________________________________________________________________________________________________\n",
            "concatenate_72 (Concatenate)    (None, 8, 8, 1024)   0           dropout_32[0][0]                 \n",
            "                                                                 leaky_re_lu_74[0][0]             \n",
            "__________________________________________________________________________________________________\n",
            "activation_92 (Activation)      (None, 8, 8, 1024)   0           concatenate_72[0][0]             \n",
            "__________________________________________________________________________________________________\n",
            "conv2d_transpose_82 (Conv2DTran (None, 16, 16, 512)  8389120     activation_92[0][0]              \n",
            "__________________________________________________________________________________________________\n",
            "batch_normalization_139 (BatchN (None, 16, 16, 512)  2048        conv2d_transpose_82[0][0]        \n",
            "__________________________________________________________________________________________________\n",
            "concatenate_73 (Concatenate)    (None, 16, 16, 1024) 0           batch_normalization_139[0][0]    \n",
            "                                                                 leaky_re_lu_73[0][0]             \n",
            "__________________________________________________________________________________________________\n",
            "activation_93 (Activation)      (None, 16, 16, 1024) 0           concatenate_73[0][0]             \n",
            "__________________________________________________________________________________________________\n",
            "conv2d_transpose_83 (Conv2DTran (None, 32, 32, 256)  4194560     activation_93[0][0]              \n",
            "__________________________________________________________________________________________________\n",
            "batch_normalization_140 (BatchN (None, 32, 32, 256)  1024        conv2d_transpose_83[0][0]        \n",
            "__________________________________________________________________________________________________\n",
            "concatenate_74 (Concatenate)    (None, 32, 32, 512)  0           batch_normalization_140[0][0]    \n",
            "                                                                 leaky_re_lu_72[0][0]             \n",
            "__________________________________________________________________________________________________\n",
            "activation_94 (Activation)      (None, 32, 32, 512)  0           concatenate_74[0][0]             \n",
            "__________________________________________________________________________________________________\n",
            "conv2d_transpose_84 (Conv2DTran (None, 64, 64, 128)  1048704     activation_94[0][0]              \n",
            "__________________________________________________________________________________________________\n",
            "batch_normalization_141 (BatchN (None, 64, 64, 128)  512         conv2d_transpose_84[0][0]        \n",
            "__________________________________________________________________________________________________\n",
            "concatenate_75 (Concatenate)    (None, 64, 64, 256)  0           batch_normalization_141[0][0]    \n",
            "                                                                 leaky_re_lu_71[0][0]             \n",
            "__________________________________________________________________________________________________\n",
            "activation_95 (Activation)      (None, 64, 64, 256)  0           concatenate_75[0][0]             \n",
            "__________________________________________________________________________________________________\n",
            "conv2d_transpose_85 (Conv2DTran (None, 128, 128, 64) 262208      activation_95[0][0]              \n",
            "__________________________________________________________________________________________________\n",
            "batch_normalization_142 (BatchN (None, 128, 128, 64) 256         conv2d_transpose_85[0][0]        \n",
            "__________________________________________________________________________________________________\n",
            "concatenate_76 (Concatenate)    (None, 128, 128, 128 0           batch_normalization_142[0][0]    \n",
            "                                                                 leaky_re_lu_70[0][0]             \n",
            "__________________________________________________________________________________________________\n",
            "activation_96 (Activation)      (None, 128, 128, 128 0           concatenate_76[0][0]             \n",
            "__________________________________________________________________________________________________\n",
            "conv2d_transpose_86 (Conv2DTran (None, 256, 256, 3)  6147        activation_96[0][0]              \n",
            "__________________________________________________________________________________________________\n",
            "activation_97 (Activation)      (None, 256, 256, 3)  0           conv2d_transpose_86[0][0]        \n",
            "==================================================================================================\n",
            "Total params: 54,429,315\n",
            "Trainable params: 54,419,459\n",
            "Non-trainable params: 9,856\n",
            "__________________________________________________________________________________________________\n"
          ],
          "name": "stdout"
        }
      ]
    },
    {
      "cell_type": "markdown",
      "metadata": {
        "id": "k8ODVjthldzP"
      },
      "source": [
        "### Discriminator Module"
      ]
    },
    {
      "cell_type": "code",
      "metadata": {
        "id": "PqUYw55Kbhqg"
      },
      "source": [
        "# define the discriminator model\n",
        "def define_discriminator(image_shape):\n",
        "    # weight initialization\n",
        "    init = RandomNormal(stddev=0.02)\n",
        "    # source image input\n",
        "    in_src_image = Input(shape=image_shape)\n",
        "    #print(\"src =\",in_src_image.shape)\n",
        "    # target image input\n",
        "    in_target_image = Input(shape=image_shape)\n",
        "    #print(\"tar =\",in_target_image.shape)\n",
        "    # concatenate images channel-wise\n",
        "    merged = Concatenate()([in_src_image, in_target_image])\n",
        "    #print(\"merged =\",merged.shape)\n",
        "    # C64\n",
        "    \n",
        "    d = Conv2D(64, (4,4), strides=(2,2), padding='same', kernel_initializer=init)(merged)\n",
        "    d = LeakyReLU(alpha=0.2)(d)\n",
        "    \n",
        "    # C128\n",
        "    \n",
        "    d = Conv2D(128, (4,4), strides=(2,2), padding='same', kernel_initializer=init)(d)\n",
        "    d = BatchNormalization()(d)\n",
        "    d = LeakyReLU(alpha=0.2)(d)\n",
        "    \n",
        "    # C256\n",
        "    \n",
        "    d = Conv2D(256, (4,4), strides=(2,2), padding='same', kernel_initializer=init)(d)\n",
        "    d = BatchNormalization()(d)\n",
        "    d = LeakyReLU(alpha=0.2)(d)\n",
        "    \n",
        "    # C512\n",
        "    \n",
        "    d = Conv2D(512, (4,4), strides=(2,2), padding='same', kernel_initializer=init)(d)\n",
        "    d = BatchNormalization()(d)\n",
        "    d = LeakyReLU(alpha=0.2)(d)\n",
        "    \n",
        "    # second last output layer\n",
        "    \n",
        "    d = Conv2D(512, (4,4),strides=(1,1), padding='same', kernel_initializer=init)(d)\n",
        "    d = BatchNormalization()(d)\n",
        "    d = LeakyReLU(alpha=0.2)(d)\n",
        "    \n",
        "    # patch output\n",
        "    #print(\"initial d =\",d.shape)\n",
        "    d = Conv2D(1, (4,4), padding='same', kernel_initializer=init)(d)\n",
        "    #print(\"final d =\",d.shape)\n",
        "    patch_out = Activation('sigmoid')(d)\n",
        "    # define model\n",
        "    model = Model([in_src_image, in_target_image], patch_out)\n",
        "    # compile model\n",
        "    opt = Adam(lr=0.0002, beta_1=0.5)\n",
        "    model.compile(loss='binary_crossentropy', optimizer=opt, loss_weights=[0.5])\n",
        "    return model\n"
      ],
      "execution_count": null,
      "outputs": []
    },
    {
      "cell_type": "code",
      "metadata": {
        "id": "vOwPxUpilDAE"
      },
      "source": [
        "d_model = define_discriminator(image_shape)"
      ],
      "execution_count": null,
      "outputs": []
    },
    {
      "cell_type": "code",
      "metadata": {
        "colab": {
          "base_uri": "https://localhost:8080/"
        },
        "id": "j8mbT22sbl89",
        "outputId": "7763e808-a071-4185-af4f-08959a5aab77"
      },
      "source": [
        "print(d_model.input_shape)\n",
        "print(d_model.output_shape)"
      ],
      "execution_count": null,
      "outputs": [
        {
          "output_type": "stream",
          "text": [
            "[(None, 256, 256, 3), (None, 256, 256, 3)]\n",
            "(None, 16, 16, 1)\n"
          ],
          "name": "stdout"
        }
      ]
    },
    {
      "cell_type": "code",
      "metadata": {
        "colab": {
          "base_uri": "https://localhost:8080/"
        },
        "id": "6wXZ0EQUddux",
        "outputId": "fbf7aab6-a1fc-4d75-ffd5-27c1fb1e000e"
      },
      "source": [
        "d_model.summary()"
      ],
      "execution_count": null,
      "outputs": [
        {
          "output_type": "stream",
          "text": [
            "Model: \"model_1\"\n",
            "__________________________________________________________________________________________________\n",
            "Layer (type)                    Output Shape         Param #     Connected to                     \n",
            "==================================================================================================\n",
            "input_2 (InputLayer)            [(None, 256, 256, 3) 0                                            \n",
            "__________________________________________________________________________________________________\n",
            "input_3 (InputLayer)            [(None, 256, 256, 3) 0                                            \n",
            "__________________________________________________________________________________________________\n",
            "concatenate_7 (Concatenate)     (None, 256, 256, 6)  0           input_2[0][0]                    \n",
            "                                                                 input_3[0][0]                    \n",
            "__________________________________________________________________________________________________\n",
            "conv2d_8 (Conv2D)               (None, 128, 128, 64) 6208        concatenate_7[0][0]              \n",
            "__________________________________________________________________________________________________\n",
            "leaky_re_lu_7 (LeakyReLU)       (None, 128, 128, 64) 0           conv2d_8[0][0]                   \n",
            "__________________________________________________________________________________________________\n",
            "conv2d_9 (Conv2D)               (None, 64, 64, 128)  131200      leaky_re_lu_7[0][0]              \n",
            "__________________________________________________________________________________________________\n",
            "batch_normalization_13 (BatchNo (None, 64, 64, 128)  512         conv2d_9[0][0]                   \n",
            "__________________________________________________________________________________________________\n",
            "leaky_re_lu_8 (LeakyReLU)       (None, 64, 64, 128)  0           batch_normalization_13[0][0]     \n",
            "__________________________________________________________________________________________________\n",
            "conv2d_10 (Conv2D)              (None, 32, 32, 256)  524544      leaky_re_lu_8[0][0]              \n",
            "__________________________________________________________________________________________________\n",
            "batch_normalization_14 (BatchNo (None, 32, 32, 256)  1024        conv2d_10[0][0]                  \n",
            "__________________________________________________________________________________________________\n",
            "leaky_re_lu_9 (LeakyReLU)       (None, 32, 32, 256)  0           batch_normalization_14[0][0]     \n",
            "__________________________________________________________________________________________________\n",
            "conv2d_11 (Conv2D)              (None, 16, 16, 512)  2097664     leaky_re_lu_9[0][0]              \n",
            "__________________________________________________________________________________________________\n",
            "batch_normalization_15 (BatchNo (None, 16, 16, 512)  2048        conv2d_11[0][0]                  \n",
            "__________________________________________________________________________________________________\n",
            "leaky_re_lu_10 (LeakyReLU)      (None, 16, 16, 512)  0           batch_normalization_15[0][0]     \n",
            "__________________________________________________________________________________________________\n",
            "conv2d_12 (Conv2D)              (None, 16, 16, 512)  4194816     leaky_re_lu_10[0][0]             \n",
            "__________________________________________________________________________________________________\n",
            "batch_normalization_16 (BatchNo (None, 16, 16, 512)  2048        conv2d_12[0][0]                  \n",
            "__________________________________________________________________________________________________\n",
            "leaky_re_lu_11 (LeakyReLU)      (None, 16, 16, 512)  0           batch_normalization_16[0][0]     \n",
            "__________________________________________________________________________________________________\n",
            "conv2d_13 (Conv2D)              (None, 16, 16, 1)    8193        leaky_re_lu_11[0][0]             \n",
            "__________________________________________________________________________________________________\n",
            "activation_9 (Activation)       (None, 16, 16, 1)    0           conv2d_13[0][0]                  \n",
            "==================================================================================================\n",
            "Total params: 6,968,257\n",
            "Trainable params: 2,816\n",
            "Non-trainable params: 6,965,441\n",
            "__________________________________________________________________________________________________\n"
          ],
          "name": "stdout"
        }
      ]
    },
    {
      "cell_type": "code",
      "metadata": {
        "colab": {
          "base_uri": "https://localhost:8080/"
        },
        "id": "-S99eGLzJlVi",
        "outputId": "090586d5-0d1f-4a47-afca-90e4a4b2f13b"
      },
      "source": [
        "d_model.layers"
      ],
      "execution_count": null,
      "outputs": [
        {
          "output_type": "execute_result",
          "data": {
            "text/plain": [
              "[<tensorflow.python.keras.engine.input_layer.InputLayer at 0x7ffaaa5e1d90>,\n",
              " <tensorflow.python.keras.engine.input_layer.InputLayer at 0x7ffaaa5e1810>,\n",
              " <tensorflow.python.keras.layers.merge.Concatenate at 0x7ffaaa5e81d0>,\n",
              " <tensorflow.python.keras.layers.convolutional.Conv2D at 0x7ffaaa5e1350>,\n",
              " <tensorflow.python.keras.layers.advanced_activations.LeakyReLU at 0x7ffaaa44b550>,\n",
              " <tensorflow.python.keras.layers.convolutional.Conv2D at 0x7ffaaa5de5d0>,\n",
              " <tensorflow.python.keras.layers.normalization_v2.BatchNormalization at 0x7ffaaa62db90>,\n",
              " <tensorflow.python.keras.layers.advanced_activations.LeakyReLU at 0x7ffaaa55fa10>,\n",
              " <tensorflow.python.keras.layers.convolutional.Conv2D at 0x7ffaaa646bd0>,\n",
              " <tensorflow.python.keras.layers.normalization_v2.BatchNormalization at 0x7ffaaa6250d0>,\n",
              " <tensorflow.python.keras.layers.advanced_activations.LeakyReLU at 0x7ffaaa5de390>,\n",
              " <tensorflow.python.keras.layers.convolutional.Conv2D at 0x7ffaaa62d150>,\n",
              " <tensorflow.python.keras.layers.normalization_v2.BatchNormalization at 0x7ffaaa688bd0>,\n",
              " <tensorflow.python.keras.layers.advanced_activations.LeakyReLU at 0x7ffaaa5e1a50>,\n",
              " <tensorflow.python.keras.layers.convolutional.Conv2D at 0x7ffaaa625850>,\n",
              " <tensorflow.python.keras.layers.normalization_v2.BatchNormalization at 0x7ffaaa422b10>,\n",
              " <tensorflow.python.keras.layers.advanced_activations.LeakyReLU at 0x7ffaaa46b590>,\n",
              " <tensorflow.python.keras.layers.convolutional.Conv2D at 0x7ffaaa6330d0>,\n",
              " <tensorflow.python.keras.layers.core.Activation at 0x7ffaaa2ab2d0>]"
            ]
          },
          "metadata": {
            "tags": []
          },
          "execution_count": 62
        }
      ]
    },
    {
      "cell_type": "markdown",
      "metadata": {
        "id": "TN4MT6pcEJIk"
      },
      "source": [
        "### GAN Definition"
      ]
    },
    {
      "cell_type": "code",
      "metadata": {
        "id": "0K0HGWDREL5A"
      },
      "source": [
        "# define the combined generator and discriminator model, for updating the generator\n",
        "def define_gan(g_model, d_model, image_shape):\n",
        "    # make weights in the discriminator not trainable\n",
        "    for layer in d_model.layers:\n",
        "        #print(layer.trainable,\" \",layer)\n",
        "        if not isinstance(layer, BatchNormalization):\n",
        "            layer.trainable = False\n",
        "    # define the source image\n",
        "    in_src = Input(shape=image_shape)\n",
        "    # connect the source image to the generator input\n",
        "    gen_out = g_model(in_src)\n",
        "    #print(\"Output of generator\",gen_out.shape)\n",
        "    # connect the source input and generator output to the discriminator input\n",
        "    dis_out = d_model([in_src, gen_out])\n",
        "    #print(\"Output of discriminator\",dis_out.shape)\n",
        "    # src image as input, generated image and classification output\n",
        "    model = Model(in_src, [dis_out, gen_out])\n",
        "    # compile model\n",
        "    opt = Adam(lr=0.0002, beta_1=0.5)\n",
        "    model.compile(loss=['binary_crossentropy', 'mae'], optimizer=opt, loss_weights=[1,100])\n",
        "    return model"
      ],
      "execution_count": null,
      "outputs": []
    },
    {
      "cell_type": "code",
      "metadata": {
        "id": "3-B-sYVyEoZq"
      },
      "source": [
        "gan_model = define_gan(g_model, d_model, image_shape)"
      ],
      "execution_count": null,
      "outputs": []
    },
    {
      "cell_type": "code",
      "metadata": {
        "colab": {
          "base_uri": "https://localhost:8080/"
        },
        "id": "LX90QqpSb1bz",
        "outputId": "a8acae6c-09db-497f-d7dc-02241aa08a1e"
      },
      "source": [
        "print(gan_model.input_shape)\n",
        "print(gan_model.output_shape)"
      ],
      "execution_count": null,
      "outputs": [
        {
          "output_type": "stream",
          "text": [
            "(None, 256, 256, 3)\n",
            "[(None, 16, 16, 1), (None, 256, 256, 3)]\n"
          ],
          "name": "stdout"
        }
      ]
    },
    {
      "cell_type": "code",
      "metadata": {
        "colab": {
          "base_uri": "https://localhost:8080/"
        },
        "id": "HiC_95Ese1vc",
        "outputId": "6272f297-40e9-4b0a-8c9f-488fe7f012f1"
      },
      "source": [
        "gan_model.summary()"
      ],
      "execution_count": null,
      "outputs": [
        {
          "output_type": "stream",
          "text": [
            "Model: \"model_2\"\n",
            "__________________________________________________________________________________________________\n",
            "Layer (type)                    Output Shape         Param #     Connected to                     \n",
            "==================================================================================================\n",
            "input_4 (InputLayer)            [(None, 256, 256, 3) 0                                            \n",
            "__________________________________________________________________________________________________\n",
            "model (Functional)              (None, 256, 256, 3)  54429315    input_4[0][0]                    \n",
            "__________________________________________________________________________________________________\n",
            "model_1 (Functional)            (None, 16, 16, 1)    6968257     input_4[0][0]                    \n",
            "                                                                 model[0][0]                      \n",
            "==================================================================================================\n",
            "Total params: 61,397,572\n",
            "Trainable params: 54,422,275\n",
            "Non-trainable params: 6,975,297\n",
            "__________________________________________________________________________________________________\n"
          ],
          "name": "stdout"
        }
      ]
    },
    {
      "cell_type": "markdown",
      "metadata": {
        "id": "C9IfmSbaORii"
      },
      "source": [
        "### Training GAN  "
      ]
    },
    {
      "cell_type": "code",
      "metadata": {
        "id": "oJdgT9KbE1qJ"
      },
      "source": [
        "# select a batch of random samples, returns images and target\n",
        "def generate_real_samples(dataset, n_samples, patch_shape):\n",
        "\t# unpack dataset\n",
        "\ttrainA, trainB = dataset\n",
        "\t# choose random instances\n",
        "  # ix is a list of 3 integer indices\n",
        "\tix = randint(0, trainA.shape[0], n_samples)\n",
        "\t# retrieve selected images\n",
        "\tX1, X2 = trainA[ix], trainB[ix]\n",
        "\t# generate 'real' class labels (1)\n",
        "\ty = ones((n_samples, patch_shape, patch_shape, 1))\n",
        "\treturn [X1, X2], y"
      ],
      "execution_count": null,
      "outputs": []
    },
    {
      "cell_type": "code",
      "metadata": {
        "id": "O-MdY_lpE8Bc"
      },
      "source": [
        "# generate a batch of images, returns images and targets\n",
        "def generate_fake_samples(g_model, samples, patch_shape):\n",
        "# generate fake instance\n",
        "    X = g_model.predict(samples)\n",
        "    #print(X.shape)\n",
        "    # create 'fake' class labels (0)\n",
        "    y = zeros((len(X), patch_shape, patch_shape, 1))\n",
        "    return X, y"
      ],
      "execution_count": null,
      "outputs": []
    },
    {
      "cell_type": "code",
      "metadata": {
        "id": "EqfXG3YbOi82"
      },
      "source": [
        "# generate samples and save as a plot and save the model\n",
        "def summarize_performance(step, g_model, d_model, dataset, n_samples=3):\n",
        "\t# select a sample of input images\n",
        "\t[X_realA, X_realB], _ = generate_real_samples(dataset, n_samples, 1)\n",
        "\t# generate a batch of fake samples\n",
        "\tX_fakeB, _ = generate_fake_samples(g_model, X_realA, 1)\n",
        "\t# scale all pixels from [-1,1] to [0,1]\n",
        "\tX_realA = (X_realA + 1) / 2.0\n",
        "\tX_realB = (X_realB + 1) / 2.0\n",
        "\tX_fakeB = (X_fakeB + 1) / 2.0\n",
        "\t# plot real source images\n",
        "\tfor i in range(n_samples):\n",
        "\t\tpyplot.subplot(3, n_samples, 1 + i)\n",
        "\t\tpyplot.axis('off')\n",
        "\t\tpyplot.imshow(X_realA[i])\n",
        "\t# plot generated target image\n",
        "\tfor i in range(n_samples):\n",
        "\t\tpyplot.subplot(3, n_samples, 1 + n_samples + i)\n",
        "\t\tpyplot.axis('off')\n",
        "\t\tpyplot.imshow(X_fakeB[i])\n",
        "\t# plot real target image\n",
        "\tfor i in range(n_samples):\n",
        "\t\tpyplot.subplot(3, n_samples, 1 + n_samples*2 + i)\n",
        "\t\tpyplot.axis('off')\n",
        "\t\tpyplot.imshow(X_realB[i])\n",
        "\t# save plot to file\n",
        "\tfilename1 = 'plot_%06d.png' % (step+1)\n",
        "\tpyplot.savefig(filename1)\n",
        "\tpyplot.close()\n",
        "\t# save the generator model\n",
        "\tfilename2 = 'g_model_%06d' % (step+1)\n",
        "\tg_model.save(filename2)\n",
        "#    filename3 = 'd_model_%06d.h5' % (step+1)\n",
        "\tfilename3 = 'd_model_%06d' % (step+1)\n",
        "\td_model.save(filename3)\n",
        "\tprint('>Saved: %s and %s and %s' % (filename1, filename2, filename3))"
      ],
      "execution_count": null,
      "outputs": []
    },
    {
      "cell_type": "code",
      "metadata": {
        "id": "b1XYX1NhOaaa"
      },
      "source": [
        "# train pix2pix models\n",
        "def train(d_model, g_model, gan_model, dataset, n_epochs=200, n_batch=1):\n",
        "    # determine the output square shape of the discriminator\n",
        "    n_patch = d_model.output_shape[1]\n",
        "    # unpack dataset\n",
        "    trainA, trainB = dataset\n",
        "    # calculate the number of batches per training epoch\n",
        "    bat_per_epo = int(len(trainA) / n_batch)\n",
        "    # calculate the number of training iterations\n",
        "    n_steps = bat_per_epo * n_epochs\n",
        "    # manually enumerate epochs\n",
        "    for i in range(n_steps):\n",
        "        # select a batch of real samples\n",
        "        [X_realA, X_realB], y_real = generate_real_samples(dataset, n_batch, n_patch)\n",
        "        # generate a batch of fake samples\n",
        "        X_fakeB, y_fake = generate_fake_samples(g_model, X_realA, n_patch)\n",
        "        # update discriminator for real samples\n",
        "        d_loss1 = d_model.train_on_batch([X_realA, X_realB], y_real)\n",
        "        # update discriminator for generated samples\n",
        "        d_loss2 = d_model.train_on_batch([X_realA, X_fakeB], y_fake)\n",
        "        # update the generator\n",
        "        g_loss, _, _ = gan_model.train_on_batch(X_realA, [y_real, X_realB])\n",
        "        # summarize performance\n",
        "        print('>%d, d1[%.3f] d2[%.3f] g[%.3f]' % (i+1, d_loss1, d_loss2, g_loss))\n",
        "        # summarize model performance\n",
        "        if (i+1) % (bat_per_epo * 5) == 0:\n",
        "            summarize_performance(i, g_model, d_model, dataset)"
      ],
      "execution_count": null,
      "outputs": []
    },
    {
      "cell_type": "code",
      "metadata": {
        "id": "qAdksepWOJOv"
      },
      "source": [
        "train(d_model, g_model, gan_model, dataset)"
      ],
      "execution_count": null,
      "outputs": []
    },
    {
      "cell_type": "markdown",
      "metadata": {
        "id": "cVnz_Ru1mK3e"
      },
      "source": [
        "### Edifice Detection Module"
      ]
    },
    {
      "cell_type": "code",
      "metadata": {
        "colab": {
          "base_uri": "https://localhost:8080/",
          "height": 497
        },
        "id": "peDGqVfEmUjq",
        "outputId": "8d0bff77-e957-4ec3-e4c5-7217e76b80a6"
      },
      "source": [
        "img = cv2.imread(\"/content/Figure_4.png\")\n",
        "imgGry = cv2.cvtColor(img, cv2.COLOR_BGR2GRAY)\n",
        "\n",
        "ret , thresh = cv2.threshold(imgGry, 240 , 255, cv2.THRESH_BINARY_INV)    # cv2.CHAIN_APPROX_NONE == cv2.THRESH_BINARY_INV\n",
        "contours , hierarchy = cv2.findContours(thresh, cv2.RETR_TREE, cv2.CHAIN_APPROX_NONE)\n",
        "\n",
        "for contour in contours:\n",
        "    approx = cv2.approxPolyDP(contour, 0.01* cv2.arcLength(contour, True), True)\n",
        "    cv2.drawContours(img, [approx], 0, (0, 0, 0), 4)\n",
        "    if len(approx) == 4 :\n",
        "        x, y , w, h = cv2.boundingRect(approx)\n",
        "\n",
        "cv2_imshow(img)\n",
        "cv2.waitKey(0)\n",
        "cv2.destroyAllWindows()"
      ],
      "execution_count": null,
      "outputs": [
        {
          "output_type": "display_data",
          "data": {
            "image/png": "[encoded data removed]",
            "text/plain": [
              "<PIL.Image.Image image mode=RGB size=640x480 at 0x7F9932D642D0>"
            ]
          },
          "metadata": {
            "tags": []
          }
        }
      ]
    },
    {
      "cell_type": "code",
      "metadata": {
        "colab": {
          "base_uri": "https://localhost:8080/"
        },
        "id": "xMvWFQpTpCGp",
        "outputId": "b2eb05b1-9818-4b5d-e054-b32429e0c396"
      },
      "source": [
        "ret"
      ],
      "execution_count": null,
      "outputs": [
        {
          "output_type": "execute_result",
          "data": {
            "text/plain": [
              "240.0"
            ]
          },
          "metadata": {
            "tags": []
          },
          "execution_count": 46
        }
      ]
    },
    {
      "cell_type": "code",
      "metadata": {
        "colab": {
          "base_uri": "https://localhost:8080/"
        },
        "id": "jiNRTXJUqb4-",
        "outputId": "99d440ee-a809-4696-955d-9fe52c4137a4"
      },
      "source": [
        "thresh.shape"
      ],
      "execution_count": null,
      "outputs": [
        {
          "output_type": "execute_result",
          "data": {
            "text/plain": [
              "(480, 640)"
            ]
          },
          "metadata": {
            "tags": []
          },
          "execution_count": 47
        }
      ]
    },
    {
      "cell_type": "code",
      "metadata": {
        "colab": {
          "base_uri": "https://localhost:8080/",
          "height": 497
        },
        "id": "GhDuaCwwkdPI",
        "outputId": "c735ea5a-fe40-4813-81e8-aaa5ef0c216b"
      },
      "source": [
        "cv2_imshow(thresh)"
      ],
      "execution_count": null,
      "outputs": [
        {
          "output_type": "display_data",
          "data": {
            "image/png": "[encoded data removed]",
            "text/plain": [
              "<PIL.Image.Image image mode=L size=640x480 at 0x7F9932E25B10>"
            ]
          },
          "metadata": {
            "tags": []
          }
        }
      ]
    },
    {
      "cell_type": "markdown",
      "metadata": {
        "id": "Hod_iaAwmZDa"
      },
      "source": [
        "### Inception Score Calculation"
      ]
    },
    {
      "cell_type": "code",
      "metadata": {
        "id": "Sriv4YktnmUu"
      },
      "source": [
        "def scale_images(images, new_shape):\n",
        "    images_list = list()\n",
        "    for image in images:\n",
        "        # resize with nearest neighbor interpolation\n",
        "        new_image = resize(image, new_shape)\n",
        "        # store\n",
        "        images_list.append(new_image)\n",
        "    return asarray(images_list)"
      ],
      "execution_count": null,
      "outputs": []
    },
    {
      "cell_type": "code",
      "metadata": {
        "id": "yzmMIh64nmp5"
      },
      "source": [
        "# assumes images have any shape and pixels in [0,255]\n",
        "def calculate_inception_score(self,images, n_split=10, eps=1E-16):\n",
        "    # load inception v3 model\n",
        "    model = InceptionV3()\n",
        "    # enumerate splits of images/predictions\n",
        "    scores = list()\n",
        "    n_part = floor(images.shape[0] / n_split)\n",
        "    for i in range(n_split):\n",
        "        # retrieve images\n",
        "        ix_start, ix_end = i * n_part, (i+1) * n_part\n",
        "        subset = images[ix_start:ix_end]\n",
        "        # convert from uint8 to float32\n",
        "        subset = subset.astype('float32')\n",
        "        # scale images to the required size\n",
        "        subset = scale_images(subset, (299,299,3))\n",
        "        # pre-process images, scale to [-1,1]\n",
        "        subset = preprocess_input(subset)\n",
        "        # predict p(y|x)\n",
        "        p_yx = model.predict(subset)\n",
        "        # calculate p(y)\n",
        "        p_y = expand_dims(p_yx.mean(axis=0), 0)\n",
        "        # calculate KL divergence using log probabilities\n",
        "        kl_d = p_yx * (log(p_yx + eps) - log(p_y + eps))\n",
        "        # sum over classes\n",
        "        sum_kl_d = kl_d.sum(axis=1)\n",
        "        # average over images\n",
        "        avg_kl_d = mean(sum_kl_d)\n",
        "        # undo the log\n",
        "        is_score = exp(avg_kl_d)\n",
        "        # store\n",
        "        scores.append(is_score)\n",
        "    # average across images\n",
        "    is_avg, is_std = mean(scores), std(scores)\n",
        "    return is_avg, is_std"
      ],
      "execution_count": null,
      "outputs": []
    },
    {
      "cell_type": "code",
      "metadata": {
        "id": "5gvpO7PnoiF0"
      },
      "source": [
        "[X1, X2] = load_real_samples('/content/drive/MyDrive/CIP_Project/maps_256.npz')\n",
        "print('Loaded', X1.shape, X2.shape)\n",
        "model = load_model('/content/drive/MyDrive/CIP_Project/g6.2/')\n",
        "val_predicted = list()\n",
        "i = 0\n",
        "for image in X1:\n",
        "  print(i)\n",
        "  i = i + 1\n",
        "  image = expand_dims(image,axis = 0)\n",
        "  gen_image = model.predict(image)\n",
        "  val_predicted.append(gen_image)\n",
        "  \n",
        "out = asarray(val_predicted)\n",
        "out = np.transpose(out,(1,0,2,3,4))\n",
        "out = out[0]"
      ],
      "execution_count": null,
      "outputs": []
    },
    {
      "cell_type": "code",
      "metadata": {
        "id": "oOCD4CMIocpP"
      },
      "source": [
        "images = out\n",
        "shuffle(images)\n",
        "print('loaded', images.shape)\n",
        "# calculate inception score\n",
        "is_avg, is_std = calculate_inception_score(images)\n",
        "print('score', is_avg, is_std)"
      ],
      "execution_count": null,
      "outputs": []
    }
  ]
}